{
 "cells": [
  {
   "cell_type": "code",
   "execution_count": 2,
   "id": "75af1d73",
   "metadata": {},
   "outputs": [
    {
     "name": "stdout",
     "output_type": "stream",
     "text": [
      "digite sua idade14\n",
      "menor de idade\n"
     ]
    }
   ],
   "source": [
    "# lista de resolução dos exercícios da aula1 do meu curso de \n",
    "# Data Science Certificate na Let´s Code\n",
    "# ex 01/01:\n",
    "# Faça um programa que peça a idade do usuário e imprima se ele é maior ou menor de 18 anos.\n",
    "\n",
    "idade = int(input(\"digite sua idade\"))\n",
    "if idade >= 18:\n",
    "    print(\"maior de idade\")\n",
    "else:\n",
    "    print(\"menor de idade\")\n"
   ]
  },
  {
   "cell_type": "code",
   "execution_count": 5,
   "id": "a0c7326e",
   "metadata": {},
   "outputs": [
    {
     "name": "stdout",
     "output_type": "stream",
     "text": [
      "digite um número: 4\n",
      "Positivo\n"
     ]
    }
   ],
   "source": [
    "# ex 02/01:\n",
    "# Faça um programa que peça um número e mostre se ele é positivo ou negativo.\n",
    "\n",
    "num = int(input(\"digite um número: \"))\n",
    "if num < 0:\n",
    "    print(\"negativo\")\n",
    "elif num > 0:\n",
    "    print(\"Positivo\")\n",
    "else:\n",
    "    print(\"nulo\")\n",
    "\n"
   ]
  },
  {
   "cell_type": "code",
   "execution_count": 6,
   "id": "755af516",
   "metadata": {},
   "outputs": [
    {
     "name": "stdout",
     "output_type": "stream",
     "text": [
      "digite um número: 4\n",
      "digite outro número: 1\n",
      "4\n"
     ]
    }
   ],
   "source": [
    "# ex 03/01:\n",
    "# Faça um programa que peça dois números e mostre o maior deles.\n",
    "\n",
    "num1 = int(input(\"digite um número: \"))\n",
    "num2 = int(input(\"digite outro número: \"))\n",
    "if num1 > num2:\n",
    "    print(num1)\n",
    "elif num2 < num1:\n",
    "    print(num2)\n",
    "else:\n",
    "    print(\"os números são iguais\")\n",
    "    "
   ]
  },
  {
   "cell_type": "code",
   "execution_count": 8,
   "id": "8661559b",
   "metadata": {},
   "outputs": [
    {
     "name": "stdout",
     "output_type": "stream",
     "text": [
      "Digite a posição inicial: 10\n",
      "Digite a velocidade inicial: 5\n",
      "Digite um instante no tempo: 45\n",
      "A posição no instante t = 45.0 é -9890.0\n"
     ]
    }
   ],
   "source": [
    "# desafio 1:\n",
    "# Peça para o usuário digitar uma velocidade inicial (em m/s), uma posição inicial (em m) e um instante de tempo (em s) e imprima a posição de um projétil nesse instante de tempo.\n",
    "# Use a fórmula matemática:\n",
    "# y(t) = y(0) + v(0)*t + (g*(t**2)/2)\n",
    "# Onde, g é a aceleração da gravidade (-10m/s²), y(t) é a posição final, y(0) é a posição inicial, v(0) é a velocidade inicial e t é o instante de tempo.\n",
    "\n",
    "y0 = float(input(\"Digite a posição inicial: \"))\n",
    "v0 = float(input(\"Digite a velocidade inicial: \"))\n",
    "t = float(input(\"Digite um instante no tempo: \"))\n",
    "g = -10\n",
    "\n",
    "y = y0 + v0*t + 0.5*g*t**2\n",
    "\n",
    "print(\"A posição no instante t =\", t, \"é igual a: \", y)"
   ]
  },
  {
   "cell_type": "code",
   "execution_count": null,
   "id": "9da23a99",
   "metadata": {},
   "outputs": [],
   "source": []
  }
 ],
 "metadata": {
  "kernelspec": {
   "display_name": "Python 3",
   "language": "python",
   "name": "python3"
  },
  "language_info": {
   "codemirror_mode": {
    "name": "ipython",
    "version": 3
   },
   "file_extension": ".py",
   "mimetype": "text/x-python",
   "name": "python",
   "nbconvert_exporter": "python",
   "pygments_lexer": "ipython3",
   "version": "3.8.8"
  }
 },
 "nbformat": 4,
 "nbformat_minor": 5
}
